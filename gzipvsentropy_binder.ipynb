{
  "nbformat": 4,
  "nbformat_minor": 0,
  "metadata": {
    "colab": {
      "name": "gzipvsentropy_binder.ipynb",
      "provenance": [],
      "collapsed_sections": [],
      "authorship_tag": "ABX9TyPKJKwfIFi2e29wn/84vFLW"
    },
    "kernelspec": {
      "name": "python3",
      "display_name": "Python 3"
    },
    "language_info": {
      "name": "python"
    },
    "widgets": {
      "application/vnd.jupyter.widget-state+json": {
        "3b99dad789984b62ae2de26cf9e75cb1": {
          "model_module": "@jupyter-widgets/controls",
          "model_name": "VBoxModel",
          "state": {
            "_view_name": "VBoxView",
            "_dom_classes": [
              "widget-interact"
            ],
            "_model_name": "VBoxModel",
            "_view_module": "@jupyter-widgets/controls",
            "_model_module_version": "1.5.0",
            "_view_count": null,
            "_view_module_version": "1.5.0",
            "box_style": "",
            "layout": "IPY_MODEL_ae6b26d119814fa3af39263f009179bb",
            "_model_module": "@jupyter-widgets/controls",
            "children": [
              "IPY_MODEL_3bbbd1dc7e7f4601b3a84d4e6f3674d5",
              "IPY_MODEL_4bf31c8c3dac41dfa83580e8406bc77a",
              "IPY_MODEL_7ec5f6e2087541d284d7735eb69601ad"
            ]
          }
        },
        "ae6b26d119814fa3af39263f009179bb": {
          "model_module": "@jupyter-widgets/base",
          "model_name": "LayoutModel",
          "state": {
            "_view_name": "LayoutView",
            "grid_template_rows": null,
            "right": null,
            "justify_content": null,
            "_view_module": "@jupyter-widgets/base",
            "overflow": null,
            "_model_module_version": "1.2.0",
            "_view_count": null,
            "flex_flow": null,
            "width": null,
            "min_width": null,
            "border": null,
            "align_items": null,
            "bottom": null,
            "_model_module": "@jupyter-widgets/base",
            "top": null,
            "grid_column": null,
            "overflow_y": null,
            "overflow_x": null,
            "grid_auto_flow": null,
            "grid_area": null,
            "grid_template_columns": null,
            "flex": null,
            "_model_name": "LayoutModel",
            "justify_items": null,
            "grid_row": null,
            "max_height": null,
            "align_content": null,
            "visibility": null,
            "align_self": null,
            "height": null,
            "min_height": null,
            "padding": null,
            "grid_auto_rows": null,
            "grid_gap": null,
            "max_width": null,
            "order": null,
            "_view_module_version": "1.2.0",
            "grid_template_areas": null,
            "object_position": null,
            "object_fit": null,
            "grid_auto_columns": null,
            "margin": null,
            "display": null,
            "left": null
          }
        },
        "3bbbd1dc7e7f4601b3a84d4e6f3674d5": {
          "model_module": "@jupyter-widgets/controls",
          "model_name": "FloatSliderModel",
          "state": {
            "_view_name": "FloatSliderView",
            "style": "IPY_MODEL_f99a5bd6e1934b7ab0e70d603cb7ff60",
            "_dom_classes": [],
            "description": "p",
            "step": 0.01,
            "_model_name": "FloatSliderModel",
            "orientation": "horizontal",
            "max": 1,
            "_view_module": "@jupyter-widgets/controls",
            "_model_module_version": "1.5.0",
            "value": 0.5,
            "_view_count": null,
            "disabled": false,
            "_view_module_version": "1.5.0",
            "min": 0,
            "continuous_update": true,
            "readout_format": ".2f",
            "description_tooltip": null,
            "readout": true,
            "_model_module": "@jupyter-widgets/controls",
            "layout": "IPY_MODEL_cf6a68ab70a049d394196c53a8561626"
          }
        },
        "4bf31c8c3dac41dfa83580e8406bc77a": {
          "model_module": "@jupyter-widgets/controls",
          "model_name": "IntSliderModel",
          "state": {
            "_view_name": "IntSliderView",
            "style": "IPY_MODEL_ff8aeb5a1f7c4681b7611004a7552693",
            "_dom_classes": [],
            "description": "nb_bytes",
            "step": 1,
            "_model_name": "IntSliderModel",
            "orientation": "horizontal",
            "max": 4096,
            "_view_module": "@jupyter-widgets/controls",
            "_model_module_version": "1.5.0",
            "value": 1024,
            "_view_count": null,
            "disabled": false,
            "_view_module_version": "1.5.0",
            "min": 32,
            "continuous_update": true,
            "readout_format": "d",
            "description_tooltip": null,
            "readout": true,
            "_model_module": "@jupyter-widgets/controls",
            "layout": "IPY_MODEL_7f75d93e71d345b8bb00ed218224bb6f"
          }
        },
        "7ec5f6e2087541d284d7735eb69601ad": {
          "model_module": "@jupyter-widgets/output",
          "model_name": "OutputModel",
          "state": {
            "_view_name": "OutputView",
            "msg_id": "",
            "_dom_classes": [],
            "_model_name": "OutputModel",
            "outputs": [
              {
                "output_type": "stream",
                "metadata": {
                  "tags": []
                },
                "text": "p=0.50 correspond a une entropie de 1.00\n\nFICHIER NON COMPRESSE : 1024 BYTES\n000:2cc89aaaa3eb0fc1bc6ba96b2b417d4dbed63feffb129f64c31f8f516dca909f81058bad70fa35cbf9e6ebd8791db6fbf0227ce9735c3798aa5e675f4856ab2bc8e8f7613b793ef458deb7d96f4cf46741c895ce96dae241cfc8ff2c0d07783bb0f804279d57998b\n001:e78c5a6a8c54b46262dc35d94036b40996002b14e1e58b8b7bec4612c56fce2f5c5c7982f200a7d8a83b0bc62e84452d1ac5730631ba9568b3f9f72d29522f3205f3936682c21d4a283c3c8fea75da66fb1b01d8a6105b654d23c9c1340e44e28c2e9be0c4ace918\n002:7e542bfa876997343fb7325959696b8d78a73adb7ade128440b39e02f03a3c1ed7aed63d6ec3c61ec0861afdc3d0f5407a03b4395d995551963507bd759048ef4719267b60b770a8a1885050b3127fea6fbf0fd7df673bb8836e8b8dded7a0367c258bce7f45fb71\n003:d1a0f61de5e2f4c374050ee7a07c920f879777326d726865f9bd0acc70379405e916e9a208258c170cc8f8bddd9a531928aa05cb6134e5d8ad726ca2888ca908e6548facb17ae0fe1a3d736d813a54778948fbe2886a77029e7392490cc59e3a65b1eb13d564e5ee\n004:59aff69734349fed383e173a9326db45f1d43207a436e65e1f4a32ce9663d5da828ab5c8f4b35c1e2b4a7f1dac847be8944ab0ca37cfd542a61c88c1ffe5dc29c2d33e0f5b9af8720e5c777c608bc5b4dc7af0b9eecb56a4bd7d570ba4af3fd58e34a5030fbef854\n005:f86829a36f6a4bea66fa894aa9fef6d270125fe96a5a3700296e1fc9968aaccbbd9eb4a760158e76e16f8481738edecf562d4dc0dbc2aaa1099b5377fe723c6d611995449eca01f1efc966472c64039e2a988b7c939d69138532d693d261e3190d71772050b95408\n006:c5249b0c193ed5169bb8d082ff6118152a91c5334fe8f01f69d0e7e024cad61f87b537e1d0e322b8e5c84b6dd8fdc1713a1e87f129e0a5eaea4e521ec297d22ea9353cd038cbe0939b3acfc40d9e24d140685183537dd35f5096e4c99b8a9478a2bd99d617217498\n007:0af84bf1894cad11af3a77daf6b43b21f928cb671a9685e808824880b6ec35935899957b786462c1cf1d8ff6478286aac0e45a3e314387e62745a4e12be680ac7320046dbcdfc1549969e974c6607a1686618b61432c497589c36ae63926ab0fbb8b7f3597e45f38\n008:b60fdab0c72b09273dbc86d704dacd2be229771a9e5ae5f1a42eeecbbb35e5de66b84060143129713db80c58df1a941012a07b58c53d18fb8af29391b3044d282564a35730716880e807e640b2abc55e28509f19d51b05e4e1c2e832b3b19e2e36d7c3a30412a300\n009:1f6a4a995aa35feee929ec76513636c4dbb65ad8df9c3145530fdb0bbbf33383895828f812aa08ecc247b32fd5d1227b611e4be5ec3934d1291851869a3fd75882487ae6ff68de60ee7aecb3792a33b43485a024f0e924eb\n\nFICHIER COMPRESSE : 1047 BYTES\n000:1f8b08007ed7866002ff010004fffb2cc89aaaa3eb0fc1bc6ba96b2b417d4dbed63feffb129f64c31f8f516dca909f81058bad70fa35cbf9e6ebd8791db6fbf0227ce9735c3798aa5e675f4856ab2bc8e8f7613b793ef458deb7d96f4cf46741c895ce96dae241cf\n001:c8ff2c0d07783bb0f804279d57998be78c5a6a8c54b46262dc35d94036b40996002b14e1e58b8b7bec4612c56fce2f5c5c7982f200a7d8a83b0bc62e84452d1ac5730631ba9568b3f9f72d29522f3205f3936682c21d4a283c3c8fea75da66fb1b01d8a6105b654d\n002:23c9c1340e44e28c2e9be0c4ace9187e542bfa876997343fb7325959696b8d78a73adb7ade128440b39e02f03a3c1ed7aed63d6ec3c61ec0861afdc3d0f5407a03b4395d995551963507bd759048ef4719267b60b770a8a1885050b3127fea6fbf0fd7df673bb883\n003:6e8b8dded7a0367c258bce7f45fb71d1a0f61de5e2f4c374050ee7a07c920f879777326d726865f9bd0acc70379405e916e9a208258c170cc8f8bddd9a531928aa05cb6134e5d8ad726ca2888ca908e6548facb17ae0fe1a3d736d813a54778948fbe2886a77029e\n004:7392490cc59e3a65b1eb13d564e5ee59aff69734349fed383e173a9326db45f1d43207a436e65e1f4a32ce9663d5da828ab5c8f4b35c1e2b4a7f1dac847be8944ab0ca37cfd542a61c88c1ffe5dc29c2d33e0f5b9af8720e5c777c608bc5b4dc7af0b9eecb56a4bd\n005:7d570ba4af3fd58e34a5030fbef854f86829a36f6a4bea66fa894aa9fef6d270125fe96a5a3700296e1fc9968aaccbbd9eb4a760158e76e16f8481738edecf562d4dc0dbc2aaa1099b5377fe723c6d611995449eca01f1efc966472c64039e2a988b7c939d691385\n006:32d693d261e3190d71772050b95408c5249b0c193ed5169bb8d082ff6118152a91c5334fe8f01f69d0e7e024cad61f87b537e1d0e322b8e5c84b6dd8fdc1713a1e87f129e0a5eaea4e521ec297d22ea9353cd038cbe0939b3acfc40d9e24d140685183537dd35f50\n007:96e4c99b8a9478a2bd99d6172174980af84bf1894cad11af3a77daf6b43b21f928cb671a9685e808824880b6ec35935899957b786462c1cf1d8ff6478286aac0e45a3e314387e62745a4e12be680ac7320046dbcdfc1549969e974c6607a1686618b61432c497589\n008:c36ae63926ab0fbb8b7f3597e45f38b60fdab0c72b09273dbc86d704dacd2be229771a9e5ae5f1a42eeecbbb35e5de66b84060143129713db80c58df1a941012a07b58c53d18fb8af29391b3044d282564a35730716880e807e640b2abc55e28509f19d51b05e4e1\n009:c2e832b3b19e2e36d7c3a30412a3001f6a4a995aa35feee929ec76513636c4dbb65ad8df9c3145530fdb0bbbf33383895828f812aa08ecc247b32fd5d1227b611e4be5ec3934d1291851869a3fd75882487ae6ff68de60ee7aecb3792a33b43485a024f0e924eb1e\n010:3c9ec500040000\n",
                "stream": "stdout"
              }
            ],
            "_view_module": "@jupyter-widgets/output",
            "_model_module_version": "1.0.0",
            "_view_count": null,
            "_view_module_version": "1.0.0",
            "layout": "IPY_MODEL_abea86deaa4f441ab31ca71f61d202e8",
            "_model_module": "@jupyter-widgets/output"
          }
        },
        "f99a5bd6e1934b7ab0e70d603cb7ff60": {
          "model_module": "@jupyter-widgets/controls",
          "model_name": "SliderStyleModel",
          "state": {
            "_view_name": "StyleView",
            "handle_color": null,
            "_model_name": "SliderStyleModel",
            "description_width": "",
            "_view_module": "@jupyter-widgets/base",
            "_model_module_version": "1.5.0",
            "_view_count": null,
            "_view_module_version": "1.2.0",
            "_model_module": "@jupyter-widgets/controls"
          }
        },
        "cf6a68ab70a049d394196c53a8561626": {
          "model_module": "@jupyter-widgets/base",
          "model_name": "LayoutModel",
          "state": {
            "_view_name": "LayoutView",
            "grid_template_rows": null,
            "right": null,
            "justify_content": null,
            "_view_module": "@jupyter-widgets/base",
            "overflow": null,
            "_model_module_version": "1.2.0",
            "_view_count": null,
            "flex_flow": null,
            "width": null,
            "min_width": null,
            "border": null,
            "align_items": null,
            "bottom": null,
            "_model_module": "@jupyter-widgets/base",
            "top": null,
            "grid_column": null,
            "overflow_y": null,
            "overflow_x": null,
            "grid_auto_flow": null,
            "grid_area": null,
            "grid_template_columns": null,
            "flex": null,
            "_model_name": "LayoutModel",
            "justify_items": null,
            "grid_row": null,
            "max_height": null,
            "align_content": null,
            "visibility": null,
            "align_self": null,
            "height": null,
            "min_height": null,
            "padding": null,
            "grid_auto_rows": null,
            "grid_gap": null,
            "max_width": null,
            "order": null,
            "_view_module_version": "1.2.0",
            "grid_template_areas": null,
            "object_position": null,
            "object_fit": null,
            "grid_auto_columns": null,
            "margin": null,
            "display": null,
            "left": null
          }
        },
        "ff8aeb5a1f7c4681b7611004a7552693": {
          "model_module": "@jupyter-widgets/controls",
          "model_name": "SliderStyleModel",
          "state": {
            "_view_name": "StyleView",
            "handle_color": null,
            "_model_name": "SliderStyleModel",
            "description_width": "",
            "_view_module": "@jupyter-widgets/base",
            "_model_module_version": "1.5.0",
            "_view_count": null,
            "_view_module_version": "1.2.0",
            "_model_module": "@jupyter-widgets/controls"
          }
        },
        "7f75d93e71d345b8bb00ed218224bb6f": {
          "model_module": "@jupyter-widgets/base",
          "model_name": "LayoutModel",
          "state": {
            "_view_name": "LayoutView",
            "grid_template_rows": null,
            "right": null,
            "justify_content": null,
            "_view_module": "@jupyter-widgets/base",
            "overflow": null,
            "_model_module_version": "1.2.0",
            "_view_count": null,
            "flex_flow": null,
            "width": null,
            "min_width": null,
            "border": null,
            "align_items": null,
            "bottom": null,
            "_model_module": "@jupyter-widgets/base",
            "top": null,
            "grid_column": null,
            "overflow_y": null,
            "overflow_x": null,
            "grid_auto_flow": null,
            "grid_area": null,
            "grid_template_columns": null,
            "flex": null,
            "_model_name": "LayoutModel",
            "justify_items": null,
            "grid_row": null,
            "max_height": null,
            "align_content": null,
            "visibility": null,
            "align_self": null,
            "height": null,
            "min_height": null,
            "padding": null,
            "grid_auto_rows": null,
            "grid_gap": null,
            "max_width": null,
            "order": null,
            "_view_module_version": "1.2.0",
            "grid_template_areas": null,
            "object_position": null,
            "object_fit": null,
            "grid_auto_columns": null,
            "margin": null,
            "display": null,
            "left": null
          }
        },
        "abea86deaa4f441ab31ca71f61d202e8": {
          "model_module": "@jupyter-widgets/base",
          "model_name": "LayoutModel",
          "state": {
            "_view_name": "LayoutView",
            "grid_template_rows": null,
            "right": null,
            "justify_content": null,
            "_view_module": "@jupyter-widgets/base",
            "overflow": null,
            "_model_module_version": "1.2.0",
            "_view_count": null,
            "flex_flow": null,
            "width": null,
            "min_width": null,
            "border": null,
            "align_items": null,
            "bottom": null,
            "_model_module": "@jupyter-widgets/base",
            "top": null,
            "grid_column": null,
            "overflow_y": null,
            "overflow_x": null,
            "grid_auto_flow": null,
            "grid_area": null,
            "grid_template_columns": null,
            "flex": null,
            "_model_name": "LayoutModel",
            "justify_items": null,
            "grid_row": null,
            "max_height": null,
            "align_content": null,
            "visibility": null,
            "align_self": null,
            "height": null,
            "min_height": null,
            "padding": null,
            "grid_auto_rows": null,
            "grid_gap": null,
            "max_width": null,
            "order": null,
            "_view_module_version": "1.2.0",
            "grid_template_areas": null,
            "object_position": null,
            "object_fit": null,
            "grid_auto_columns": null,
            "margin": null,
            "display": null,
            "left": null
          }
        }
      }
    }
  },
  "cells": [
    {
      "cell_type": "code",
      "metadata": {
        "id": "T0swrOzJgeWZ"
      },
      "source": [
        "import numpy as np\n",
        "import matplotlib.pyplot as plt\n",
        "from IPython.display import display\n",
        "from ipywidgets import interact, interact_manual, widgets,fixed"
      ],
      "execution_count": 1,
      "outputs": []
    },
    {
      "cell_type": "code",
      "metadata": {
        "id": "LtX9JrADup8v"
      },
      "source": [
        "import gzip"
      ],
      "execution_count": null,
      "outputs": []
    },
    {
      "cell_type": "code",
      "metadata": {
        "id": "y6uMYEApgkrr"
      },
      "source": [
        "def generate_biased_rnd_vector_byte(p_in,n_in):\n",
        "    v_byte_to_ret=np.zeros((n_in,),dtype=np.uint8)\n",
        "    v_raw_rnd_bin=np.array(np.random.rand(8*n_in)<p_in,dtype=np.uint8)\n",
        "    for i in range(8):\n",
        "        v_byte_to_ret+=(v_raw_rnd_bin[i::8]<<i)\n",
        "    return v_byte_to_ret\n",
        "def comp_gzip(v_in):\n",
        "    v_out = np.frombuffer(gzip.compress(v_in),dtype=np.uint8)\n",
        "    return v_out\n",
        "def afficher(v_in,nb_bytes_per_lines=128):\n",
        "    v_in_len=v_in.shape[0]\n",
        "    nb_lines=int(v_in_len/nb_bytes_per_lines)+1\n",
        "   \n",
        "    for j in range(nb_lines):\n",
        "        s_line='%.3d:'%(j)\n",
        "        for i in range(nb_bytes_per_lines):\n",
        "            k=j*nb_bytes_per_lines+i\n",
        "            if k<v_in_len:\n",
        "                s_line='%s%.2x'%(s_line,v_in[k])\n",
        "        print(s_line)\n",
        "\n",
        "def gzipVsentropy(p=0.5,nb_bytes=1024):\n",
        "   \n",
        "    if p*(1-p)==0:\n",
        "        entropy=0\n",
        "    else:\n",
        "        entropy=(np.log2(p)*(p)+np.log2(1-p)*(1-p))/-1\n",
        "\n",
        "    print('p=%.2f correspond a une entropie de %.2f'%(p,entropy))\n",
        "   \n",
        "    v_in=generate_biased_rnd_vector_byte(p,nb_bytes)\n",
        "    v_comp=comp_gzip(v_in)\n",
        "    print('\\nFICHIER NON COMPRESSE : %d BYTES'%(v_in.shape[0]))\n",
        "    afficher(v_in,104)\n",
        "    print('\\nFICHIER COMPRESSE : %d BYTES'%(v_comp.shape[0]))\n",
        "    afficher(v_comp,104)"
      ],
      "execution_count": 2,
      "outputs": []
    },
    {
      "cell_type": "code",
      "metadata": {
        "colab": {
          "base_uri": "https://localhost:8080/",
          "height": 540,
          "referenced_widgets": [
            "3b99dad789984b62ae2de26cf9e75cb1",
            "ae6b26d119814fa3af39263f009179bb",
            "3bbbd1dc7e7f4601b3a84d4e6f3674d5",
            "4bf31c8c3dac41dfa83580e8406bc77a",
            "7ec5f6e2087541d284d7735eb69601ad",
            "f99a5bd6e1934b7ab0e70d603cb7ff60",
            "cf6a68ab70a049d394196c53a8561626",
            "ff8aeb5a1f7c4681b7611004a7552693",
            "7f75d93e71d345b8bb00ed218224bb6f",
            "abea86deaa4f441ab31ca71f61d202e8"
          ]
        },
        "id": "ZfrVHzVVgpyq",
        "outputId": "537044b4-3006-4ff0-baec-f0c92797e7bb"
      },
      "source": [
        "im=interact(gzipVsentropy)\n",
        "im.widget.children[0].max=1.0\n",
        "im.widget.children[0].min=0.0\n",
        "im.widget.children[0].step=0.01\n",
        "im.widget.children[1].max=4096\n",
        "im.widget.children[1].min=32\n",
        "display(im)"
      ],
      "execution_count": 3,
      "outputs": [
        {
          "output_type": "display_data",
          "data": {
            "application/vnd.jupyter.widget-view+json": {
              "model_id": "3b99dad789984b62ae2de26cf9e75cb1",
              "version_minor": 0,
              "version_major": 2
            },
            "text/plain": [
              "interactive(children=(FloatSlider(value=0.5, description='p', max=1.5, min=-0.5), IntSlider(value=1024, descri…"
            ]
          },
          "metadata": {
            "tags": []
          }
        },
        {
          "output_type": "display_data",
          "data": {
            "text/plain": [
              "<function __main__.gzipVsentropy>"
            ]
          },
          "metadata": {
            "tags": []
          }
        }
      ]
    },
    {
      "cell_type": "code",
      "metadata": {
        "id": "UI2Wk8tSm-7t"
      },
      "source": [
        ""
      ],
      "execution_count": null,
      "outputs": []
    }
  ]
}