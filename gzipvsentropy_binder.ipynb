{
  "nbformat": 4,
  "nbformat_minor": 0,
  "metadata": {
    "colab": {
      "name": "gzipvsentropy_binder.ipynb",
      "provenance": [],
      "collapsed_sections": [],
      "authorship_tag": "ABX9TyPjGzjqjNy1M6IDvmnfCu4u"
    },
    "kernelspec": {
      "name": "python3",
      "display_name": "Python 3"
    },
    "language_info": {
      "name": "python"
    },
    "widgets": {
      "application/vnd.jupyter.widget-state+json": {
        "bcc0dd9853004b1d88d8280163585d5b": {
          "model_module": "@jupyter-widgets/controls",
          "model_name": "VBoxModel",
          "state": {
            "_view_name": "VBoxView",
            "_dom_classes": [
              "widget-interact"
            ],
            "_model_name": "VBoxModel",
            "_view_module": "@jupyter-widgets/controls",
            "_model_module_version": "1.5.0",
            "_view_count": null,
            "_view_module_version": "1.5.0",
            "box_style": "",
            "layout": "IPY_MODEL_70b2e2cca75145968392345c267fd29f",
            "_model_module": "@jupyter-widgets/controls",
            "children": [
              "IPY_MODEL_c144de86718a4a3992587413de5e2b74",
              "IPY_MODEL_b4a706a22e33476681275bc6d1c74e38",
              "IPY_MODEL_2d115fb9072f49dcb3d0815787cb8e02"
            ]
          }
        },
        "70b2e2cca75145968392345c267fd29f": {
          "model_module": "@jupyter-widgets/base",
          "model_name": "LayoutModel",
          "state": {
            "_view_name": "LayoutView",
            "grid_template_rows": null,
            "right": null,
            "justify_content": null,
            "_view_module": "@jupyter-widgets/base",
            "overflow": null,
            "_model_module_version": "1.2.0",
            "_view_count": null,
            "flex_flow": null,
            "width": null,
            "min_width": null,
            "border": null,
            "align_items": null,
            "bottom": null,
            "_model_module": "@jupyter-widgets/base",
            "top": null,
            "grid_column": null,
            "overflow_y": null,
            "overflow_x": null,
            "grid_auto_flow": null,
            "grid_area": null,
            "grid_template_columns": null,
            "flex": null,
            "_model_name": "LayoutModel",
            "justify_items": null,
            "grid_row": null,
            "max_height": null,
            "align_content": null,
            "visibility": null,
            "align_self": null,
            "height": null,
            "min_height": null,
            "padding": null,
            "grid_auto_rows": null,
            "grid_gap": null,
            "max_width": null,
            "order": null,
            "_view_module_version": "1.2.0",
            "grid_template_areas": null,
            "object_position": null,
            "object_fit": null,
            "grid_auto_columns": null,
            "margin": null,
            "display": null,
            "left": null
          }
        },
        "c144de86718a4a3992587413de5e2b74": {
          "model_module": "@jupyter-widgets/controls",
          "model_name": "FloatSliderModel",
          "state": {
            "_view_name": "FloatSliderView",
            "style": "IPY_MODEL_61bcaeb7fa104a40badb492b7018ba5c",
            "_dom_classes": [],
            "description": "p",
            "step": 0.01,
            "_model_name": "FloatSliderModel",
            "orientation": "horizontal",
            "max": 1,
            "_view_module": "@jupyter-widgets/controls",
            "_model_module_version": "1.5.0",
            "value": 0.95,
            "_view_count": null,
            "disabled": false,
            "_view_module_version": "1.5.0",
            "min": 0,
            "continuous_update": true,
            "readout_format": ".2f",
            "description_tooltip": null,
            "readout": true,
            "_model_module": "@jupyter-widgets/controls",
            "layout": "IPY_MODEL_8480592771cd4be4a184a8809eb219ce"
          }
        },
        "b4a706a22e33476681275bc6d1c74e38": {
          "model_module": "@jupyter-widgets/controls",
          "model_name": "IntSliderModel",
          "state": {
            "_view_name": "IntSliderView",
            "style": "IPY_MODEL_a839057a8eb142ee91164532aec67555",
            "_dom_classes": [],
            "description": "nb_bytes",
            "step": 1,
            "_model_name": "IntSliderModel",
            "orientation": "horizontal",
            "max": 4096,
            "_view_module": "@jupyter-widgets/controls",
            "_model_module_version": "1.5.0",
            "value": 4096,
            "_view_count": null,
            "disabled": false,
            "_view_module_version": "1.5.0",
            "min": 32,
            "continuous_update": true,
            "readout_format": "d",
            "description_tooltip": null,
            "readout": true,
            "_model_module": "@jupyter-widgets/controls",
            "layout": "IPY_MODEL_ebe9c25dd01246c8aacabbe75774a103"
          }
        },
        "2d115fb9072f49dcb3d0815787cb8e02": {
          "model_module": "@jupyter-widgets/output",
          "model_name": "OutputModel",
          "state": {
            "_view_name": "OutputView",
            "msg_id": "",
            "_dom_classes": [],
            "_model_name": "OutputModel",
            "outputs": [
              {
                "output_type": "stream",
                "metadata": {
                  "tags": []
                },
                "text": "p=0.95 correspond a une entropie de 0.29\n\nFICHIER NON COMPRESSE : 4096 BYTES\n000:effffffff7ffffffffffffffffffdbffffffff7ffffffffdfffeffffffffdffefffefbbffefffffefdffffebbfffffffeffff7bffffffffffffffefffffffffffbfffffffffffff7ff77bffffffffffffffffffffffffffffffef7ffcfbbfffafbfffefffddfffef\n001:ffffbfffbffffdfffff7f7fffffffbffffbfff7dffbfffffbfffffffffffffbfffffbffffdfffffbfffffffffdbffffffffbfffffefffffffffffbfffffffff7fffeffffffffffefdffffbffffffffbfbffbfefffffbdffffffffffffaffffffffffffff7ffffbff\n002:77fffeffd7f7fffffffffbffbdeffbffffefffffbf5f7ffefffffefffff7ffffffff7fffffffffffffffdffff7ffffdffffbffeffffffffff7fffffbfeffffffaf7fffffffffffffffeffffffffddfffefffffbffdffffffddffffdfffdffffffffffffbbefffffd\n003:ffffffffffff7fffffffffffffffffff7ffffffeffffdffffffffffffffffffffffffffffefdffffffffffffffdfffffdfffffffffffffefeff7feffffffebffffffffffffffffffffffeffffbffffffff7fffffdfbffffffefffffffffffffffffbff7ffff7fffd\n004:ffffffffdf6fffffffffffbfff7ffffff7ffffdfffffffffffffffffbfffffbffffbffffffffffffffffffff77dbfeffefff7fdfffefefffffffffffffbffffffffbfdffffffefde7feff7f7fffffffbfffffffffffffffefffffefffffdffffffcffffffffffaff\n005:ffffffffffffff7fd7fffffffdfffffffdefefffffb7fdfeffffefffff7ffdffffffffffffbfffff6df7efff7ffff7ef9f7fffffffffbb7fffff7effff5ffffafffffffbf7fffff6ffeffdefffff7ffbdfffeffffbffbffffffeffefdfdffefefdfdfdfffefffdff\n006:fbffffffbfffffffffffffffffffffffdfffffffffcedffefffffffffffff7fffffbffffaffffffffff7fffffffffffffffffefff7fffffffffeffffdffffffbfffffff7fffdfffffffff7fffffff7bfffffefffffffffffffdbfffffeffff7fffffdbffffffffff\n007:fedfbf7ffffdfffbfffffffbfffffeffffeffffffffffffffffdfffff7ffbbfffffffffffbfeffffffffffdfefffdffeffffffffeffffffefffffbffefbaf7f7ffffffffff7fffefd7ffffffffffffff6ffefffffbff7fefeffeffffffffffffffffffffffffffff\n008:ffeff7f7ffffbfffff9fffffffffffff6fffffffffffff7fffffeffffdfffeffffffbfffdffff7fffefffdfeff7fffffefffdffffbffffffffeffffff7ffbffbffffedfff7f7fffffeffffffffffffffffffffffffffffffffefffff7ffffffffffbfe7fdfffffbf\n009:effffffbff7ff7ff7fffffefdfffffefffffbfffbfffffffffffff7fffffffffffffbfffffffffffffdfffff7ffdffffffefffffffffffffeffffffffffffffdfbffffff7ffffddfffffdffffffeffdfffffffffff7dffbfeeffffffeffffffffedf7dfdffffffff\n010:ffefffffffebfffdfffffffbedff7fffeffdfffffffffffffffeffffbdfffddffffffffffebff7fffffffffffeffffeffffffffffffdffffeffffffffffffff7effdfffb7ffffffff7fffffffffffffffeffbfffffffffffffffffbfffff7eff7beffefffffffffd\n011:ffffefbffffbfbffbdfdffdfffeffffdf7fd7ffffffffffffbfffffbbffffbffe7fffffffffffffffff6ffffffdffffffffafffdfffffffefff7fffffffffffbbffeffffffffffffddffbffffbffdff7fffffffffffffef7efffffffffede7fffffffffbfeffffff\n012:ffdfffbfffffbffffffffbfdffffdfbffffff7fffffffbfffffbffff7ff7ffefffffdffffffffffdfefbfefffffffffeffffffffbfffffffffffffffffffffffff7fffff7fff9fefdffbffffff7ffbffffffffbbffffffefffeffffffdfffffff7dfffffffffffff\n013:ffefffe3fffbbfffff7fffffffffffffffffff7ffffffdf7fffffef7ffdfdffbfeffdffffffffff7effffdfbfffffbdffffff7ffffffbfffdfeffffffffffffebdfffffffffffffffffffffffffdfffffffffffffffffffffffffbffffffffffdffffffffbfdefff\n014:ffffbffffffffeffffffcfffdff7ffff77ff7efb7ff5ffffff6ffffff7fffffff7ffffffffffffffffffffe7fefffffffffffdfb7fffff7ffffffffffffdfffffffffdffffffffffffffffffffffff7ffffffbfbff7ffefffdfffffffffffffdffffffffffffffff\n015:ffffffff7f7fffffffffffffffbffbffbf7fffffffffffdffeffffffffffffffffffffffffffffffffffffffffff7ffdffffff7fffffffffffffffffffffdfefef3fff7ffffffffbffdf7fbffffff7ffffbfffffffffffefffffffffffffffeffffff3ffffdffffb\n016:fffef7fffffffeff7ffffeffffffffffffffeffefaffffdffffdffbdffffffffffffffcfffffe7fbffffffff7ff7fffffff6ffeff7fffaffdffffffffffffffffbfffffffffff7fffbdfffffffffbffffffffffffffffffffdeffbffffffffffff7ffdeffdffdfff\n017:7ef7ffffffbffbfffffffffbf7ffbffffffffffffeffffffffbffefffdcfffffdfffbdffdfbffbfffffffffffefffffffffff7dffffffffffffdffdffbefffefffffffffff7fffffffffffffffffe7fffdffef7fffffbfffffffffffffffffffefbfffffffdfbfff\n018:ffffdffedfffffdf7ffffffefffffffffffdf7ffffeffffffdfffd7ffffffffffe3fffffbfffefbdfffffffffffedffffffff77bfbffbbf5ffbffffbfbffffbffff73dffffffffffffffbffff7fffdffebffffffefffdfdecfefffffffffbeffbffeffffbfffffff\n019:e7ffffffffbfdfffffffeffffeffffefffffcfdcffffefbfff7ffeffffffffffffffffffffbffefffffbffeefffffefffffffffebfffefffffff6fffff7feffcffffffffffffffffffbffffffefffffffffffffffffffffddfffeffffffd7ffffffdfeffffffdfff\n020:fffdffffffffeffffffeffffffffffffffffffffdfffdfefbfffffdfffffffffbdffffffffdfffffffffdffeffffffdffffffffb7fdfff7fffffffffffffffffefffffefdfffff7fdfffdfffe7ffffffffdffffffff7f7fffeffffffffffdfffbffeffb7dfffffff\n021:fffffffffffffffeffcfffffffffefffffffffffff7fffffffbf7feffffffffffffffff7ffbdfffffff7dffffffffbfff7b7ffbdffeffffbfdffffffff7fffffffffdffffffffffffffff7fffffffffdfbffefffffffffffffffffbfff7bfffff77ffdff9fffffff\n022:ffffdffffffffffffffff9d6bffffffdffffffffffffffffffdcffff7f3fbfdffbafdffffffffffefffffffeffffff7ffffbfffffffffffffffffffffffeffdffefcd7ff7fffeffffbffffffffff7ff9ffffffefff7fffffdfdffffffbfffffffbbfffffdffffdfe\n023:ddfffffffffffffffffbffff7fffbffeffdffeffffffbfffff7ffffdffb7ffffffffeffbfffffffffffffefffffdffbffefffffffffbffffbddff7dffff7cbffff7e7dfbfbfffffffffbffffdfffbfffefffefdbdffffffff7ffffffffffdfffffff7fff7fffffff\n024:ffdffffffffbefffffdffffffffdffffffffffffffdfdffffffffffffffdfffffff7fffffffffffbfffe7bffffffefffffbfffffffff7efdfffffdfffffffffbefffffdffdf7fffffbffbfffffffffffffffffffff77bfff7fbffff7ffffeffffefdffdfbfffffff\n025:fffefeffdfffffffffbdffbbfffffbfff7fffffebfffeffffffffffffefffffffffff7ffffbefffffffffffffbffbfffffffffffffffffeffbfff7fffeff7ffffdffdffffff7ffffffffffdffffffffdbbfffffffdfffffeffdfdffff7fbbffffafffffeffffffbf\n026:fdffffffd5fffffffefffffdf7ffdffffeffffedf7fffaf7feff7fbfff9fffffffffffffffffffffff7fffffffdfffffffffffff7ff7ffff7f7ffffdffffbfbffffffffffffffefdffbefffdffffff3fffffff7fffffffdfdffffffffffdffffffffdfffffffffff\n027:ffffffffffffffffffffffffefffdffffffbffffffffffffffbffffffdffffffffffffffffdff6fffffffbffdfffffffbff7ffffbf7ffeffffffffffffefffbffffff7fbffff7bffeffffff7ffffffffffbffffffffbff7fff7fdf7ffffffdfffffffffffafbffff\n028:ffeffff7fffdfffffefffff7ffffffffffdffb7ffefffffffffffffffffffbffefffffffffbffbffef7fffffeffffffbdffbfffffffff9fffdffdf7ffff7fefffffffeffffefffbfbfefcaffffffff5fffdffff7fdffcfffffffb7fffdffffffff3fffffdffffdff\n029:f7fffffdffffffffdffbff7feffffffffffffffffffff7efff7fffff7fff7fbffeff7f7fffeffffbfbffffffbffffffffef7fffefbfbfff7effffff7fffb3fdfffbdfffffffff7ffffffffffffffffffffbfffffffffffffffffffdffffffff7ffffffeffffff7ff\n030:7f7fdfffffff7fffffffdfffffff7feffffffffffffefff5fff7fffefedfffff7ff7ffffffefffffffdffffffff9ddfffdffbfffffffffeeffffffffffffffffffff7fffeffdfdfffefffffbdfdfffffffffff7ffeffffbfbef7ffffffffffffbfffffffffffffff\n031:fa7fffffefff7fffbfff77ff7ff7cdffffffffffddffefffeffeffffefffffe7fffffff7ffffffffefffbffffd7fffffff6fffeffffffffffff7bcdfffffffdffeffffffff77fdffffffffffffdffffffdffefffffffddffbff7ffffffffffbef7fffff7fffffbff\n032:fffffefffffffffffdfffffffffffbffffbfff7fffffffef7fffffbffffdffffffffeffff7fffffeffff67ffffffffffffffdffdffffffffffffbfeffffffdfffffffbbffffffefffffffffffefffffef7f77fffbfdffffffffffffeffcff7fffffff5ffffffbeff\n033:f7fbfffffffffffdfffffffefffff7fffffff7dfffffffdafffffffffefffffffffffffffff7fdffffbfffdffffffffff9fffffdfffffffffbfefbfffffafffffaffffffffff7ffffffffffffff7fffbffddffffff7fffffffffffffffbffffff7fddffffff7ffef\n034:fdfffffffffffffffffffeffffffffffff7f7ffdffdffbf7fffeff7fffafffdfffffffffffffbaeffffdffffffffffdffffb7fbffffefffb7fff7dfff9ffffbfffdfffedfffffbfbbffffffffffe7bfff5ffffffffffffdf7fffdfffdf7effffffffefffff7fbfff\n035:efffffffffffffffffdfffcffffffffffbffffffffffef7eff7fffbfffffffeffffbfff7fff7ffffffffffdf7ffffffffffffffffffffff7fffffffffffffff7ffffffffffbfffffffffffeaefffffffffe7fffffffffffffffffef7fffbfff7fbbfffffffffffef\n036:fdfffbffffffffffff7ffbf7fffffafffffefffdffffffffffeffffffffefdfbffffffffbbffeffffffdf7ffeff7fffffffbfefbffff7f7fffffffffffefff7bffef7ff7ffff7fdf59ffffffdfff7fffffffffffe7fffffff7fffbfffffeffffffdfffffffeffbff\n037:ffffff5fff7effffdfffbefffff7fffefffffffffffcfffdfdffffffbfbfffffdfffbfffffffffffffffbffffffffeffdffdfbffffff7ffdbffffffeffff7fffefffffffffffffeefffffffffffffffeffbfffff7ffffdffffffffdffbfffeefeffffffffffffffd\n038:fffecdb7fdbffffffb7fffffffffffff7fffffffdbffffffcfffefedffffffeffafffffffffffffffffffffbffff7d7fffffbfffffffffffffff7fffff7fcfff7fffbfffefffffefffdbffdfffffdffffdffff7fffffefffffffffffdffdef5ffeff7ffeffffffff\n039:fffffffaffffffbf7fffffffffffffffffffdfffffffffeffffff7ffffbfbffffffffffffffffff7\n\nFICHIER COMPRESSE : 1545 BYTES\n000:1f8b0800eaca866002ff6557bd6e2337107eb240cf91ca65aac0a50bc1e6a3f8115c1a3845669fe0e22a3110c737450a0131e429029bb0687232bf5cee59779676b943cedf37dfcc2211158acfa37c25fe6bd4e5123af59af9b237a2e7cc2b48259bac0a50b59b42\n001:1799569f5ee87e47a7ca720d781b65fec7a79462bb325df21ff92ebd6a7e5ccb263269287e8360f739575ea8a08b275799f8d9050b3e14dbb7c74aaaf92c753dad847bea9bdcca71680a484ea49b782cab6e38db454f226beaea9dc487e6b3f4aa930b8c10b4a12a\n002:9e2016d1f23c49a179c407400e9fd5fcc446e90970ee314a6436d314b4ba9c74f1d8f9b4c446e310a02a47e0b78411f8485e372feee708527a205b6e72c66deb1a88d4c6793f1714c3f05a5ddff1f715d1991e5059c11b61930d15d42f7508017a6f4d20d5d48019\n003:29eaccefd003462270433328bb5d5a74ab3e69212058c401ddae517cb45d9093ab3324b9984290761662d30a48a61f559001f1a5144f2a3ef8b6737d9210fb1ae6a4716533ae5d6ec001bd88b2228d7defb6ea0846b123f3e5514be2fb6335ec6624279432aafaa2\n004:4700453dcd20cc23a09a2e5c602c5e57156c86c4ee18e20a7c71990e976d6c78d608d7a304a02d88d9eb7ebecc25963062ea7a0acbd734a5af2fd9ce8295ad0550763076b9461b09545a6929aabd0aa80fb1ebcd4172529b1c0ca4a4445a97220d254847ed381e96\n005:f442b08c148254989701ffe770a223b07593eef41d3e25ba89ae1134809ab99d4609ad4e0a8c7cfd2396af29a115254280ea2167fb2415425cc5b06181ebfb59679b6feaa8932aa5a5d6752d5cf1fa82ae6a7a35e0951597d3a17bea5358d53e1dceeb9c84d46375\n006:fd307c619866bb864f3835c9b62243f60a377acfa94916f33cc3517eff33f6ed45fd49a302b09fe449a3080933d4c128b2281eb0301860159de2ad60c95cc31aa6a140ecaa981fc65379e9600ca4762f0af78c8e3a7536cf2c6faee8760f0f0fbc8c69d6877209fa\n007:d5a5c8521c231050ac18c0fb4676e1de494af46c2bed5e49ab81bfcb0fa35c84e89e3558f0ed5e2db8137355ab223c833eb53abcff5bad485386b292d68b9bd2b3bac14049f84153554e3bace389a942fd12e5b630e3c2d920ee6a7cf683c4a1074c99b0d24463c2\n008:57499ae721644bb47310136fa7aed9ad1fe1c26c3905668a2ad3b4542ab77c87d6dd4c1b0c31e33b5c3cdcf22a43f49a66b9f73ff38c778e5eda64a8371010e83e52ccd641ff781056f4e5f4aec64aeff6e6543530ad3f4de59bc44bb05e20244cb7ea631dc4dac8\n009:e88c57f6c00e96df982a2f6bf535a13086e0238cfa06356db85d9dc6c6bc014b353b5f52df92b70dfe5c3517d69d4ddbeec47a3ccb25819f60ab19aaa9f748f84ee33ff034ea45e0e9cac65958b5f789d3301bdf76665e175b0b07ed64c7e8acf587478589537e8f\n010:5cef3c35b145d76be68a540a2f2451c163e198bceed4c14d48c26037a0cfad1696c9680605bc1985c9b25058d4168a54e11d5b6be363d692a448e9db09a76a03b3391aded7a9421da5cc3ba8b301d398daf12ef1e231ab4797cd197f950767324c342d925bd3b231\n011:b22ce19d0c29e37c1dd6c428c65752d8c6fcc5b4dbf9a6a8fd750356c853f7c8ab11adc4c492124cc14f01805749b3d05972497dfcfe24d01689973971a8b320fb6aa99078e4bbb2567b4a5658993b5c2a5fbdd7731518d91dc258498532ebb983b1fc02a34f5db4\n012:e141d3c74fe4a38ba8b36133683a8a55a76c2777e73e1bcf7e8a70c430ec13401d0c2a437529c96859b94c94bd2a6f973ad4381494c8fe5aea47969a8d8b8a002fd05e753c3fcd0d8833262f248365058d4deb0bdb4456dec4a5835911de04f8bfa03bcc1d98ebaa\n013:cbcc76293a45fb516602abf9ad5a4fdacf98c1af6230cd0bbb8231b6b987579a327ba92981f8693028ab5f4bf6bf48d1d0fcc5b12a25e8812d0a33c9eb85b2c432a7f6e603192a5b608980f9e48252a0ca0ef0a39a9a28549578c18441c567f22a034262d19e3ea8\n014:35325681814c9bbfc026ea96fdb5c3e3f1328fbd6994648f373206fed75bd954d342638f3ae4e0512c39ad06bfcb69c69042bed7f04a4fe54d60956f6f15864c3cebcb0070d2eeb97ed332bacaa3b8cbff6546630900100000\n",
                "stream": "stdout"
              }
            ],
            "_view_module": "@jupyter-widgets/output",
            "_model_module_version": "1.0.0",
            "_view_count": null,
            "_view_module_version": "1.0.0",
            "layout": "IPY_MODEL_ea117e8c4a124f0092c960fdf7b57caa",
            "_model_module": "@jupyter-widgets/output"
          }
        },
        "61bcaeb7fa104a40badb492b7018ba5c": {
          "model_module": "@jupyter-widgets/controls",
          "model_name": "SliderStyleModel",
          "state": {
            "_view_name": "StyleView",
            "handle_color": null,
            "_model_name": "SliderStyleModel",
            "description_width": "",
            "_view_module": "@jupyter-widgets/base",
            "_model_module_version": "1.5.0",
            "_view_count": null,
            "_view_module_version": "1.2.0",
            "_model_module": "@jupyter-widgets/controls"
          }
        },
        "8480592771cd4be4a184a8809eb219ce": {
          "model_module": "@jupyter-widgets/base",
          "model_name": "LayoutModel",
          "state": {
            "_view_name": "LayoutView",
            "grid_template_rows": null,
            "right": null,
            "justify_content": null,
            "_view_module": "@jupyter-widgets/base",
            "overflow": null,
            "_model_module_version": "1.2.0",
            "_view_count": null,
            "flex_flow": null,
            "width": null,
            "min_width": null,
            "border": null,
            "align_items": null,
            "bottom": null,
            "_model_module": "@jupyter-widgets/base",
            "top": null,
            "grid_column": null,
            "overflow_y": null,
            "overflow_x": null,
            "grid_auto_flow": null,
            "grid_area": null,
            "grid_template_columns": null,
            "flex": null,
            "_model_name": "LayoutModel",
            "justify_items": null,
            "grid_row": null,
            "max_height": null,
            "align_content": null,
            "visibility": null,
            "align_self": null,
            "height": null,
            "min_height": null,
            "padding": null,
            "grid_auto_rows": null,
            "grid_gap": null,
            "max_width": null,
            "order": null,
            "_view_module_version": "1.2.0",
            "grid_template_areas": null,
            "object_position": null,
            "object_fit": null,
            "grid_auto_columns": null,
            "margin": null,
            "display": null,
            "left": null
          }
        },
        "a839057a8eb142ee91164532aec67555": {
          "model_module": "@jupyter-widgets/controls",
          "model_name": "SliderStyleModel",
          "state": {
            "_view_name": "StyleView",
            "handle_color": null,
            "_model_name": "SliderStyleModel",
            "description_width": "",
            "_view_module": "@jupyter-widgets/base",
            "_model_module_version": "1.5.0",
            "_view_count": null,
            "_view_module_version": "1.2.0",
            "_model_module": "@jupyter-widgets/controls"
          }
        },
        "ebe9c25dd01246c8aacabbe75774a103": {
          "model_module": "@jupyter-widgets/base",
          "model_name": "LayoutModel",
          "state": {
            "_view_name": "LayoutView",
            "grid_template_rows": null,
            "right": null,
            "justify_content": null,
            "_view_module": "@jupyter-widgets/base",
            "overflow": null,
            "_model_module_version": "1.2.0",
            "_view_count": null,
            "flex_flow": null,
            "width": null,
            "min_width": null,
            "border": null,
            "align_items": null,
            "bottom": null,
            "_model_module": "@jupyter-widgets/base",
            "top": null,
            "grid_column": null,
            "overflow_y": null,
            "overflow_x": null,
            "grid_auto_flow": null,
            "grid_area": null,
            "grid_template_columns": null,
            "flex": null,
            "_model_name": "LayoutModel",
            "justify_items": null,
            "grid_row": null,
            "max_height": null,
            "align_content": null,
            "visibility": null,
            "align_self": null,
            "height": null,
            "min_height": null,
            "padding": null,
            "grid_auto_rows": null,
            "grid_gap": null,
            "max_width": null,
            "order": null,
            "_view_module_version": "1.2.0",
            "grid_template_areas": null,
            "object_position": null,
            "object_fit": null,
            "grid_auto_columns": null,
            "margin": null,
            "display": null,
            "left": null
          }
        },
        "ea117e8c4a124f0092c960fdf7b57caa": {
          "model_module": "@jupyter-widgets/base",
          "model_name": "LayoutModel",
          "state": {
            "_view_name": "LayoutView",
            "grid_template_rows": null,
            "right": null,
            "justify_content": null,
            "_view_module": "@jupyter-widgets/base",
            "overflow": null,
            "_model_module_version": "1.2.0",
            "_view_count": null,
            "flex_flow": null,
            "width": null,
            "min_width": null,
            "border": null,
            "align_items": null,
            "bottom": null,
            "_model_module": "@jupyter-widgets/base",
            "top": null,
            "grid_column": null,
            "overflow_y": null,
            "overflow_x": null,
            "grid_auto_flow": null,
            "grid_area": null,
            "grid_template_columns": null,
            "flex": null,
            "_model_name": "LayoutModel",
            "justify_items": null,
            "grid_row": null,
            "max_height": null,
            "align_content": null,
            "visibility": null,
            "align_self": null,
            "height": null,
            "min_height": null,
            "padding": null,
            "grid_auto_rows": null,
            "grid_gap": null,
            "max_width": null,
            "order": null,
            "_view_module_version": "1.2.0",
            "grid_template_areas": null,
            "object_position": null,
            "object_fit": null,
            "grid_auto_columns": null,
            "margin": null,
            "display": null,
            "left": null
          }
        }
      }
    }
  },
  "cells": [
    {
      "cell_type": "code",
      "metadata": {
        "id": "T0swrOzJgeWZ"
      },
      "source": [
        "import numpy as np\n",
        "import gzip\n",
        "import matplotlib.pyplot as plt\n",
        "from IPython.display import display\n",
        "from ipywidgets import interact, interact_manual, widgets,fixed"
      ],
      "execution_count": 4,
      "outputs": []
    },
    {
      "cell_type": "code",
      "metadata": {
        "id": "y6uMYEApgkrr"
      },
      "source": [
        "def generate_biased_rnd_vector_byte(p_in,n_in):\n",
        "    v_byte_to_ret=np.zeros((n_in,),dtype=np.uint8)\n",
        "    v_raw_rnd_bin=np.array(np.random.rand(8*n_in)<p_in,dtype=np.uint8)\n",
        "    for i in range(8):\n",
        "        v_byte_to_ret+=(v_raw_rnd_bin[i::8]<<i)\n",
        "    return v_byte_to_ret\n",
        "def comp_gzip(v_in):\n",
        "    v_out = np.frombuffer(gzip.compress(v_in),dtype=np.uint8)\n",
        "    return v_out\n",
        "def afficher(v_in,nb_bytes_per_lines=128):\n",
        "    v_in_len=v_in.shape[0]\n",
        "    nb_lines=int(v_in_len/nb_bytes_per_lines)+1\n",
        "   \n",
        "    for j in range(nb_lines):\n",
        "        s_line='%.3d:'%(j)\n",
        "        for i in range(nb_bytes_per_lines):\n",
        "            k=j*nb_bytes_per_lines+i\n",
        "            if k<v_in_len:\n",
        "                s_line='%s%.2x'%(s_line,v_in[k])\n",
        "        print(s_line)\n",
        "\n",
        "def PlotgzipVsentropy():\n",
        "    nb_bytes=1024*4\n",
        "    nb_p=100\n",
        "    v_p=np.arange(nb_p,dtype=np.float64)/(nb_p-1)\n",
        "    v_h=np.zeros((nb_p,),dtype=np.float64)\n",
        "    v_comp_ratio=np.zeros((nb_p,),dtype=np.float64)\n",
        "    bar = progressbar.ProgressBar(max_value=nb_p)\n",
        "    for p_i in range(nb_p):\n",
        "        p=v_p[p_i]\n",
        "        v_in=generate_biased_rnd_vector_byte(p,nb_bytes)\n",
        "        v_out = np.frombuffer(gzip.compress(v_in),dtype=np.uint8)\n",
        "        v_comp_ratio[p_i]=len(v_out)/nb_bytes\n",
        "        if abs(0.5-p)!=0.5:\n",
        "            v_h[p_i]=((p)*np.log2(p)+(1-p)*np.log2(1-p))*-1\n",
        "        bar.update(p_i+1)\n",
        "    bar.finish()\n",
        "    fig, ax1 = plt.subplots(figsize=[15,10])\n",
        "    ax1.set_xlabel('p: proba to generate a 1')\n",
        "    ax1.set_ylabel('gzip compression ratio', color='tab:red')\n",
        "    ax1.plot(v_p,v_comp_ratio-v_comp_ratio[0], color='tab:red')\n",
        "    ax2 = ax1.twinx()\n",
        "    ax2.plot(v_p,v_h, color='tab:green')\n",
        "    ax2.set_ylabel('-p.log2(p)-(1-p).log2(1-p)', color='tab:green')\n",
        "\n",
        "def gzipVsentropy(p=0.5,nb_bytes=1024):\n",
        "   \n",
        "    if p*(1-p)==0:\n",
        "        entropy=0\n",
        "    else:\n",
        "        entropy=(np.log2(p)*(p)+np.log2(1-p)*(1-p))/-1\n",
        "\n",
        "    print('p=%.2f correspond a une entropie de %.2f'%(p,entropy))\n",
        "   \n",
        "    v_in=generate_biased_rnd_vector_byte(p,nb_bytes)\n",
        "    v_comp=comp_gzip(v_in)\n",
        "    print('\\nFICHIER NON COMPRESSE : %d BYTES'%(v_in.shape[0]))\n",
        "    afficher(v_in,104)\n",
        "    print('\\nFICHIER COMPRESSE : %d BYTES'%(v_comp.shape[0]))\n",
        "    afficher(v_comp,104)"
      ],
      "execution_count": 13,
      "outputs": []
    },
    {
      "cell_type": "code",
      "metadata": {
        "colab": {
          "base_uri": "https://localhost:8080/",
          "height": 1000,
          "referenced_widgets": [
            "bcc0dd9853004b1d88d8280163585d5b",
            "70b2e2cca75145968392345c267fd29f",
            "c144de86718a4a3992587413de5e2b74",
            "b4a706a22e33476681275bc6d1c74e38",
            "2d115fb9072f49dcb3d0815787cb8e02",
            "61bcaeb7fa104a40badb492b7018ba5c",
            "8480592771cd4be4a184a8809eb219ce",
            "a839057a8eb142ee91164532aec67555",
            "ebe9c25dd01246c8aacabbe75774a103",
            "ea117e8c4a124f0092c960fdf7b57caa"
          ]
        },
        "id": "ZfrVHzVVgpyq",
        "outputId": "1e5540de-c288-4ef5-ce4c-45a3f4b0e9e6"
      },
      "source": [
        "im=interact(gzipVsentropy)\n",
        "im.widget.children[0].max=1.0\n",
        "im.widget.children[0].min=0.0\n",
        "im.widget.children[0].step=0.01\n",
        "im.widget.children[1].max=4096\n",
        "im.widget.children[1].min=32\n",
        "display(im)"
      ],
      "execution_count": 15,
      "outputs": [
        {
          "output_type": "display_data",
          "data": {
            "application/vnd.jupyter.widget-view+json": {
              "model_id": "bcc0dd9853004b1d88d8280163585d5b",
              "version_minor": 0,
              "version_major": 2
            },
            "text/plain": [
              "interactive(children=(FloatSlider(value=0.5, description='p', max=1.5, min=-0.5), IntSlider(value=1024, descri…"
            ]
          },
          "metadata": {
            "tags": []
          }
        },
        {
          "output_type": "display_data",
          "data": {
            "text/plain": [
              "<function __main__.gzipVsentropy>"
            ]
          },
          "metadata": {
            "tags": []
          }
        }
      ]
    },
    {
      "cell_type": "code",
      "metadata": {
        "id": "ca1Abz_UgxRS"
      },
      "source": [
        ""
      ],
      "execution_count": null,
      "outputs": []
    }
  ]
}